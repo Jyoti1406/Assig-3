{
 "cells": [
  {
   "cell_type": "code",
   "execution_count": 1,
   "id": "c2e4a008",
   "metadata": {},
   "outputs": [
    {
     "name": "stdout",
     "output_type": "stream",
     "text": [
      "Requirement already satisfied: selenium in c:\\users\\user\\anaconda3\\lib\\site-packages (4.19.0)\n",
      "Requirement already satisfied: urllib3[socks]<3,>=1.26 in c:\\users\\user\\anaconda3\\lib\\site-packages (from selenium) (1.26.16)\n",
      "Requirement already satisfied: trio~=0.17 in c:\\users\\user\\anaconda3\\lib\\site-packages (from selenium) (0.25.0)\n",
      "Requirement already satisfied: trio-websocket~=0.9 in c:\\users\\user\\anaconda3\\lib\\site-packages (from selenium) (0.11.1)\n",
      "Requirement already satisfied: certifi>=2021.10.8 in c:\\users\\user\\anaconda3\\lib\\site-packages (from selenium) (2023.7.22)\n",
      "Requirement already satisfied: typing_extensions>=4.9.0 in c:\\users\\user\\anaconda3\\lib\\site-packages (from selenium) (4.10.0)\n",
      "Requirement already satisfied: attrs>=23.2.0 in c:\\users\\user\\anaconda3\\lib\\site-packages (from trio~=0.17->selenium) (23.2.0)\n",
      "Requirement already satisfied: sortedcontainers in c:\\users\\user\\anaconda3\\lib\\site-packages (from trio~=0.17->selenium) (2.4.0)\n",
      "Requirement already satisfied: idna in c:\\users\\user\\anaconda3\\lib\\site-packages (from trio~=0.17->selenium) (3.4)\n",
      "Requirement already satisfied: outcome in c:\\users\\user\\anaconda3\\lib\\site-packages (from trio~=0.17->selenium) (1.3.0.post0)\n",
      "Requirement already satisfied: sniffio>=1.3.0 in c:\\users\\user\\anaconda3\\lib\\site-packages (from trio~=0.17->selenium) (1.3.1)\n",
      "Requirement already satisfied: cffi>=1.14 in c:\\users\\user\\anaconda3\\lib\\site-packages (from trio~=0.17->selenium) (1.15.1)\n",
      "Requirement already satisfied: wsproto>=0.14 in c:\\users\\user\\anaconda3\\lib\\site-packages (from trio-websocket~=0.9->selenium) (1.2.0)\n",
      "Requirement already satisfied: PySocks!=1.5.7,<2.0,>=1.5.6 in c:\\users\\user\\anaconda3\\lib\\site-packages (from urllib3[socks]<3,>=1.26->selenium) (1.7.1)\n",
      "Requirement already satisfied: pycparser in c:\\users\\user\\anaconda3\\lib\\site-packages (from cffi>=1.14->trio~=0.17->selenium) (2.21)\n",
      "Requirement already satisfied: h11<1,>=0.9.0 in c:\\users\\user\\anaconda3\\lib\\site-packages (from wsproto>=0.14->trio-websocket~=0.9->selenium) (0.14.0)\n"
     ]
    }
   ],
   "source": [
    "!pip install selenium"
   ]
  },
  {
   "cell_type": "code",
   "execution_count": 3,
   "id": "633768d1",
   "metadata": {},
   "outputs": [],
   "source": [
    "import selenium\n",
    "import pandas as pd\n",
    "import time\n",
    "from bs4 import BeautifulSoup\n",
    "\n",
    "# Import Selenium webdriver\n",
    "\n",
    "from selenium import webdriver\n",
    "\n",
    "# import required Exception \n",
    "from selenium.common.exceptions import StaleElementReferenceException,NoSuchElementException\n",
    "\n",
    "import requests\n",
    "\n",
    "from selenium.webdriver.common.by import By\n"
   ]
  },
  {
   "cell_type": "code",
   "execution_count": null,
   "id": "21b8b3c8",
   "metadata": {},
   "outputs": [],
   "source": [
    "Q-7"
   ]
  },
  {
   "cell_type": "code",
   "execution_count": 70,
   "id": "09092820",
   "metadata": {},
   "outputs": [],
   "source": [
    "driver= webdriver.Chrome()\n",
    "driver.get(\"https://www.forbes.com\")"
   ]
  },
  {
   "cell_type": "code",
   "execution_count": 71,
   "id": "ee42029b",
   "metadata": {},
   "outputs": [],
   "source": [
    "rank=[]\n",
    "name=[]\n",
    "net_worth=[]\n",
    "Inds=[]\n"
   ]
  },
  {
   "cell_type": "code",
   "execution_count": null,
   "id": "f5f0dc42",
   "metadata": {},
   "outputs": [],
   "source": []
  },
  {
   "cell_type": "code",
   "execution_count": 72,
   "id": "1831b336",
   "metadata": {},
   "outputs": [],
   "source": [
    "title_rank=driver.find_elements(By.XPATH,'//div[@class=\"Table_rank__X4MKf\"]/div')\n",
    "for i in title_rank:\n",
    "    title=i.text\n",
    "    rank.append(title)\n",
    "    \n",
    "    \n",
    "    \n",
    "    \n",
    "    \n",
    "title_name=driver.find_elements(By.XPATH,'//div[@class=\"Table_personName__Bus2E\"]')\n",
    "for i in title_name:\n",
    "    title1=i.text\n",
    "    name.append(title1)\n",
    "    \n",
    "    \n",
    "    \n",
    "title_Nworth=driver.find_elements(By.XPATH,'//div[@class=\"Table_finalWorth__UZA6k\"]')\n",
    "for i in title_Nworth:\n",
    "    title2=i.text\n",
    "    net_worth.append(title2)\n",
    "        \n",
    "    \n",
    "    \n",
    "title_indust=driver.find_elements(By.XPATH,'//div[@role=\"cell\"][4]')\n",
    "for i in title_indust:\n",
    "    title3=i.text\n",
    "    Inds.append(title3)  "
   ]
  },
  {
   "cell_type": "code",
   "execution_count": 73,
   "id": "d882885a",
   "metadata": {},
   "outputs": [
    {
     "name": "stdout",
     "output_type": "stream",
     "text": [
      "200 200 200 200\n"
     ]
    }
   ],
   "source": [
    "print(len(rank),len(name),len(net_worth),len(Inds))"
   ]
  },
  {
   "cell_type": "code",
   "execution_count": 75,
   "id": "336bcc76",
   "metadata": {},
   "outputs": [
    {
     "data": {
      "text/html": [
       "<div>\n",
       "<style scoped>\n",
       "    .dataframe tbody tr th:only-of-type {\n",
       "        vertical-align: middle;\n",
       "    }\n",
       "\n",
       "    .dataframe tbody tr th {\n",
       "        vertical-align: top;\n",
       "    }\n",
       "\n",
       "    .dataframe thead th {\n",
       "        text-align: right;\n",
       "    }\n",
       "</style>\n",
       "<table border=\"1\" class=\"dataframe\">\n",
       "  <thead>\n",
       "    <tr style=\"text-align: right;\">\n",
       "      <th></th>\n",
       "      <th>RANK</th>\n",
       "      <th>NAME</th>\n",
       "      <th>NET_WORTH</th>\n",
       "      <th>INDUSTRIES</th>\n",
       "    </tr>\n",
       "  </thead>\n",
       "  <tbody>\n",
       "    <tr>\n",
       "      <th>0</th>\n",
       "      <td>1.</td>\n",
       "      <td>Bernard Arnault &amp; family</td>\n",
       "      <td>$233 B</td>\n",
       "      <td>Fashion &amp; Retail</td>\n",
       "    </tr>\n",
       "    <tr>\n",
       "      <th>1</th>\n",
       "      <td>2.</td>\n",
       "      <td>Elon Musk</td>\n",
       "      <td>$195 B</td>\n",
       "      <td>Automotive</td>\n",
       "    </tr>\n",
       "    <tr>\n",
       "      <th>2</th>\n",
       "      <td>3.</td>\n",
       "      <td>Jeff Bezos</td>\n",
       "      <td>$194 B</td>\n",
       "      <td>Technology</td>\n",
       "    </tr>\n",
       "    <tr>\n",
       "      <th>3</th>\n",
       "      <td>4.</td>\n",
       "      <td>Mark Zuckerberg</td>\n",
       "      <td>$177 B</td>\n",
       "      <td>Technology</td>\n",
       "    </tr>\n",
       "    <tr>\n",
       "      <th>4</th>\n",
       "      <td>5.</td>\n",
       "      <td>Larry Ellison</td>\n",
       "      <td>$141 B</td>\n",
       "      <td>Technology</td>\n",
       "    </tr>\n",
       "    <tr>\n",
       "      <th>...</th>\n",
       "      <td>...</td>\n",
       "      <td>...</td>\n",
       "      <td>...</td>\n",
       "      <td>...</td>\n",
       "    </tr>\n",
       "    <tr>\n",
       "      <th>195</th>\n",
       "      <td>195.</td>\n",
       "      <td>Lei Jun</td>\n",
       "      <td>$10.9 B</td>\n",
       "      <td>Technology</td>\n",
       "    </tr>\n",
       "    <tr>\n",
       "      <th>196</th>\n",
       "      <td>195.</td>\n",
       "      <td>Georg Schaeffler</td>\n",
       "      <td>$10.9 B</td>\n",
       "      <td>Automotive</td>\n",
       "    </tr>\n",
       "    <tr>\n",
       "      <th>197</th>\n",
       "      <td>195.</td>\n",
       "      <td>Marcel Herrmann Telles &amp; family</td>\n",
       "      <td>$10.9 B</td>\n",
       "      <td>Food &amp; Beverage</td>\n",
       "    </tr>\n",
       "    <tr>\n",
       "      <th>198</th>\n",
       "      <td>199.</td>\n",
       "      <td>David Velez &amp; family</td>\n",
       "      <td>$10.8 B</td>\n",
       "      <td>Finance &amp; Investments</td>\n",
       "    </tr>\n",
       "    <tr>\n",
       "      <th>199</th>\n",
       "      <td>200.</td>\n",
       "      <td>Suleiman Kerimov &amp; family</td>\n",
       "      <td>$10.7 B</td>\n",
       "      <td>Finance &amp; Investments</td>\n",
       "    </tr>\n",
       "  </tbody>\n",
       "</table>\n",
       "<p>200 rows × 4 columns</p>\n",
       "</div>"
      ],
      "text/plain": [
       "     RANK                             NAME NET_WORTH             INDUSTRIES\n",
       "0      1.         Bernard Arnault & family    $233 B       Fashion & Retail\n",
       "1      2.                        Elon Musk    $195 B             Automotive\n",
       "2      3.                       Jeff Bezos    $194 B             Technology\n",
       "3      4.                  Mark Zuckerberg    $177 B             Technology\n",
       "4      5.                    Larry Ellison    $141 B             Technology\n",
       "..    ...                              ...       ...                    ...\n",
       "195  195.                          Lei Jun   $10.9 B             Technology\n",
       "196  195.                 Georg Schaeffler   $10.9 B             Automotive\n",
       "197  195.  Marcel Herrmann Telles & family   $10.9 B        Food & Beverage\n",
       "198  199.             David Velez & family   $10.8 B  Finance & Investments\n",
       "199  200.        Suleiman Kerimov & family   $10.7 B  Finance & Investments\n",
       "\n",
       "[200 rows x 4 columns]"
      ]
     },
     "execution_count": 75,
     "metadata": {},
     "output_type": "execute_result"
    }
   ],
   "source": [
    "import pandas as pd\n",
    "df=pd.DataFrame({'RANK':rank,'NAME':name,'NET_WORTH':net_worth ,'INDUSTRIES':Inds})\n",
    "df"
   ]
  },
  {
   "cell_type": "code",
   "execution_count": 78,
   "id": "73835216",
   "metadata": {},
   "outputs": [
    {
     "data": {
      "text/html": [
       "<div>\n",
       "<style scoped>\n",
       "    .dataframe tbody tr th:only-of-type {\n",
       "        vertical-align: middle;\n",
       "    }\n",
       "\n",
       "    .dataframe tbody tr th {\n",
       "        vertical-align: top;\n",
       "    }\n",
       "\n",
       "    .dataframe thead th {\n",
       "        text-align: right;\n",
       "    }\n",
       "</style>\n",
       "<table border=\"1\" class=\"dataframe\">\n",
       "  <thead>\n",
       "    <tr style=\"text-align: right;\">\n",
       "      <th></th>\n",
       "      <th>RANK</th>\n",
       "      <th>NAME</th>\n",
       "      <th>NET_WORTH</th>\n",
       "      <th>INDUSTRIES</th>\n",
       "    </tr>\n",
       "  </thead>\n",
       "  <tbody>\n",
       "    <tr>\n",
       "      <th>0</th>\n",
       "      <td>1.</td>\n",
       "      <td>Bernard Arnault &amp; family</td>\n",
       "      <td>$233 B</td>\n",
       "      <td>Fashion &amp; Retail</td>\n",
       "    </tr>\n",
       "    <tr>\n",
       "      <th>1</th>\n",
       "      <td>2.</td>\n",
       "      <td>Elon Musk</td>\n",
       "      <td>$195 B</td>\n",
       "      <td>Automotive</td>\n",
       "    </tr>\n",
       "    <tr>\n",
       "      <th>2</th>\n",
       "      <td>3.</td>\n",
       "      <td>Jeff Bezos</td>\n",
       "      <td>$194 B</td>\n",
       "      <td>Technology</td>\n",
       "    </tr>\n",
       "    <tr>\n",
       "      <th>3</th>\n",
       "      <td>4.</td>\n",
       "      <td>Mark Zuckerberg</td>\n",
       "      <td>$177 B</td>\n",
       "      <td>Technology</td>\n",
       "    </tr>\n",
       "    <tr>\n",
       "      <th>4</th>\n",
       "      <td>5.</td>\n",
       "      <td>Larry Ellison</td>\n",
       "      <td>$141 B</td>\n",
       "      <td>Technology</td>\n",
       "    </tr>\n",
       "    <tr>\n",
       "      <th>5</th>\n",
       "      <td>6.</td>\n",
       "      <td>Warren Buffett</td>\n",
       "      <td>$133 B</td>\n",
       "      <td>Finance &amp; Investments</td>\n",
       "    </tr>\n",
       "    <tr>\n",
       "      <th>6</th>\n",
       "      <td>7.</td>\n",
       "      <td>Bill Gates</td>\n",
       "      <td>$128 B</td>\n",
       "      <td>Technology</td>\n",
       "    </tr>\n",
       "    <tr>\n",
       "      <th>7</th>\n",
       "      <td>8.</td>\n",
       "      <td>Steve Ballmer</td>\n",
       "      <td>$121 B</td>\n",
       "      <td>Technology</td>\n",
       "    </tr>\n",
       "    <tr>\n",
       "      <th>8</th>\n",
       "      <td>9.</td>\n",
       "      <td>Mukesh Ambani</td>\n",
       "      <td>$116 B</td>\n",
       "      <td>Diversified</td>\n",
       "    </tr>\n",
       "    <tr>\n",
       "      <th>9</th>\n",
       "      <td>10.</td>\n",
       "      <td>Larry Page</td>\n",
       "      <td>$114 B</td>\n",
       "      <td>Technology</td>\n",
       "    </tr>\n",
       "  </tbody>\n",
       "</table>\n",
       "</div>"
      ],
      "text/plain": [
       "  RANK                      NAME NET_WORTH             INDUSTRIES\n",
       "0   1.  Bernard Arnault & family    $233 B       Fashion & Retail\n",
       "1   2.                 Elon Musk    $195 B             Automotive\n",
       "2   3.                Jeff Bezos    $194 B             Technology\n",
       "3   4.           Mark Zuckerberg    $177 B             Technology\n",
       "4   5.             Larry Ellison    $141 B             Technology\n",
       "5   6.            Warren Buffett    $133 B  Finance & Investments\n",
       "6   7.                Bill Gates    $128 B             Technology\n",
       "7   8.             Steve Ballmer    $121 B             Technology\n",
       "8   9.             Mukesh Ambani    $116 B            Diversified\n",
       "9  10.                Larry Page    $114 B             Technology"
      ]
     },
     "execution_count": 78,
     "metadata": {},
     "output_type": "execute_result"
    }
   ],
   "source": [
    "df.head(10)"
   ]
  },
  {
   "cell_type": "code",
   "execution_count": null,
   "id": "a7e4a6c4",
   "metadata": {},
   "outputs": [],
   "source": []
  },
  {
   "cell_type": "code",
   "execution_count": 79,
   "id": "d7339602",
   "metadata": {},
   "outputs": [],
   "source": [
    "driver.close()"
   ]
  },
  {
   "cell_type": "code",
   "execution_count": null,
   "id": "b20f162a",
   "metadata": {},
   "outputs": [],
   "source": []
  },
  {
   "cell_type": "code",
   "execution_count": null,
   "id": "c518fa85",
   "metadata": {},
   "outputs": [],
   "source": [
    "for url in item_url:\n",
    "    drivre.get(url)\n",
    "    time.sleep(3)\n",
    "    \n",
    "    try:\n",
    "        brand=driver.find_element(By.XPATH,'')\n",
    "        Brand.append(brand.text)\n",
    "    except NoSuchElementException:\n",
    "        Brand.append('-')\n",
    "        \n",
    "    try:\n",
    "        replacement=driver.find_element(By.XPATH,'')\n",
    "        \n",
    "        \n",
    "        \n",
    "    "
   ]
  },
  {
   "cell_type": "code",
   "execution_count": 32,
   "id": "48f2cd05",
   "metadata": {},
   "outputs": [],
   "source": [
    "from selenium import webdriver\n",
    "import time\n",
    "from selenium.common.exceptions import NoSuchElementException\n",
    "import warnings\n",
    "warnings.filterwarnings('ignore')\n",
    "from selenium.webdriver.common.by import By"
   ]
  },
  {
   "cell_type": "code",
   "execution_count": 36,
   "id": "5b2a5feb",
   "metadata": {},
   "outputs": [],
   "source": [
    "import selenium\n",
    "import pandas as pd\n",
    "import time\n",
    "from bs4 import BeautifulSoup\n",
    "\n",
    "# Import Selenium webdriver\n",
    "\n",
    "from selenium import webdriver\n",
    "\n",
    "# import required Exception \n",
    "from selenium.common.exceptions import StaleElementReferenceException,NoSuchElementException\n",
    "\n",
    "import requests\n",
    "\n",
    "from selenium.webdriver.common.by import By"
   ]
  },
  {
   "cell_type": "code",
   "execution_count": 64,
   "id": "8f548f95",
   "metadata": {},
   "outputs": [],
   "source": [
    " # Q 6\n",
    "\n",
    "driver= webdriver.Chrome()\n",
    "driver.get(\"https://www.digit.in/\")\n"
   ]
  },
  {
   "cell_type": "code",
   "execution_count": null,
   "id": "d1016604",
   "metadata": {},
   "outputs": [],
   "source": []
  },
  {
   "cell_type": "code",
   "execution_count": 66,
   "id": "564cee21",
   "metadata": {},
   "outputs": [],
   "source": [
    "#item1= driver.find_element(By.XPATH,'///div[@class=\"search head_search position-relative\"]')\n",
    "#item1.send_keys('AI (Artificial intellgence Gaming Laptop in India)')\n",
    "search=driver.find_element(By.XPATH,'/html/body/div[1]/header/div/div[2]/div/div/div/div/button/i')\n",
    "search.click()\n",
    "#time.sleep(3)"
   ]
  },
  {
   "cell_type": "code",
   "execution_count": 68,
   "id": "25cc658e",
   "metadata": {},
   "outputs": [],
   "source": [
    "item1= driver.find_element(By.XPATH,'/html/body/div[5]/div/form/input[1]')\n",
    "item1.send_keys('Best AI (Artificial Intelligence) Gaming Laptops in India')\n",
    "search=driver.find_element(By.XPATH,'/html/body/div[5]/div/form/button/i')\n",
    "search.click()\n",
    "time.sleep(2)"
   ]
  },
  {
   "cell_type": "code",
   "execution_count": 69,
   "id": "2cea485a",
   "metadata": {},
   "outputs": [],
   "source": [
    "driver.close()"
   ]
  },
  {
   "cell_type": "code",
   "execution_count": null,
   "id": "ee006c18",
   "metadata": {},
   "outputs": [],
   "source": [
    "Q-1"
   ]
  },
  {
   "cell_type": "code",
   "execution_count": 4,
   "id": "38d33f94",
   "metadata": {},
   "outputs": [],
   "source": [
    "driver= webdriver.Chrome()\n",
    "driver.get(\"https://www.amazon.com/\")"
   ]
  },
  {
   "cell_type": "code",
   "execution_count": 5,
   "id": "b86fdf90",
   "metadata": {},
   "outputs": [],
   "source": [
    "item1= driver.find_element(By.XPATH,'/html/body/div[1]/header/div/div[1]/div[2]/div/form/div[2]/div[1]/input')\n",
    "\n",
    "item1.send_keys('guitars')\n",
    "search=driver.find_element(By.XPATH,'/html/body/div[1]/header/div/div[1]/div[2]/div/form/div[3]/div/span/input')\n",
    "search.click()\n",
    "time.sleep(3)"
   ]
  },
  {
   "cell_type": "code",
   "execution_count": null,
   "id": "656bdc64",
   "metadata": {},
   "outputs": [],
   "source": []
  }
 ],
 "metadata": {
  "kernelspec": {
   "display_name": "Python 3 (ipykernel)",
   "language": "python",
   "name": "python3"
  },
  "language_info": {
   "codemirror_mode": {
    "name": "ipython",
    "version": 3
   },
   "file_extension": ".py",
   "mimetype": "text/x-python",
   "name": "python",
   "nbconvert_exporter": "python",
   "pygments_lexer": "ipython3",
   "version": "3.11.4"
  }
 },
 "nbformat": 4,
 "nbformat_minor": 5
}
